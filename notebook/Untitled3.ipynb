{
 "cells": [
  {
   "cell_type": "code",
   "execution_count": 29,
   "id": "af9842a5",
   "metadata": {},
   "outputs": [],
   "source": [
    "#import libraries\n",
    "import pandas as pd\n",
    "import numpy as np"
   ]
  },
  {
   "cell_type": "code",
   "execution_count": 30,
   "id": "975b79b5",
   "metadata": {},
   "outputs": [
    {
     "data": {
      "text/html": [
       "<div>\n",
       "<style scoped>\n",
       "    .dataframe tbody tr th:only-of-type {\n",
       "        vertical-align: middle;\n",
       "    }\n",
       "\n",
       "    .dataframe tbody tr th {\n",
       "        vertical-align: top;\n",
       "    }\n",
       "\n",
       "    .dataframe thead th {\n",
       "        text-align: right;\n",
       "    }\n",
       "</style>\n",
       "<table border=\"1\" class=\"dataframe\">\n",
       "  <thead>\n",
       "    <tr style=\"text-align: right;\">\n",
       "      <th></th>\n",
       "      <th>instant</th>\n",
       "      <th>season</th>\n",
       "      <th>yr</th>\n",
       "      <th>mnth</th>\n",
       "      <th>holiday</th>\n",
       "      <th>weekday</th>\n",
       "      <th>workingday</th>\n",
       "      <th>weathersit</th>\n",
       "      <th>temp</th>\n",
       "      <th>atemp</th>\n",
       "      <th>hum</th>\n",
       "      <th>windspeed</th>\n",
       "      <th>casual</th>\n",
       "      <th>registered</th>\n",
       "      <th>cnt</th>\n",
       "    </tr>\n",
       "    <tr>\n",
       "      <th>dteday</th>\n",
       "      <th></th>\n",
       "      <th></th>\n",
       "      <th></th>\n",
       "      <th></th>\n",
       "      <th></th>\n",
       "      <th></th>\n",
       "      <th></th>\n",
       "      <th></th>\n",
       "      <th></th>\n",
       "      <th></th>\n",
       "      <th></th>\n",
       "      <th></th>\n",
       "      <th></th>\n",
       "      <th></th>\n",
       "      <th></th>\n",
       "    </tr>\n",
       "  </thead>\n",
       "  <tbody>\n",
       "    <tr>\n",
       "      <th>2011-01-01</th>\n",
       "      <td>1</td>\n",
       "      <td>1</td>\n",
       "      <td>0</td>\n",
       "      <td>1</td>\n",
       "      <td>0</td>\n",
       "      <td>6</td>\n",
       "      <td>0</td>\n",
       "      <td>2</td>\n",
       "      <td>0.344167</td>\n",
       "      <td>0.363625</td>\n",
       "      <td>0.805833</td>\n",
       "      <td>0.160446</td>\n",
       "      <td>331</td>\n",
       "      <td>654</td>\n",
       "      <td>985</td>\n",
       "    </tr>\n",
       "  </tbody>\n",
       "</table>\n",
       "</div>"
      ],
      "text/plain": [
       "            instant  season  yr  mnth  holiday  weekday  workingday  \\\n",
       "dteday                                                                \n",
       "2011-01-01        1       1   0     1        0        6           0   \n",
       "\n",
       "            weathersit      temp     atemp       hum  windspeed  casual  \\\n",
       "dteday                                                                    \n",
       "2011-01-01           2  0.344167  0.363625  0.805833   0.160446     331   \n",
       "\n",
       "            registered  cnt  \n",
       "dteday                       \n",
       "2011-01-01         654  985  "
      ]
     },
     "execution_count": 30,
     "metadata": {},
     "output_type": "execute_result"
    }
   ],
   "source": [
    "#get the data\n",
    "data = pd.read_csv(\"../data/Daily Bike Sharing.csv\", \n",
    "                   index_col = \"dteday\", \n",
    "                   parse_dates = True)\n",
    "data.head(1)"
   ]
  },
  {
   "cell_type": "code",
   "execution_count": 31,
   "id": "6f7875a3",
   "metadata": {},
   "outputs": [
    {
     "data": {
      "text/html": [
       "<div>\n",
       "<style scoped>\n",
       "    .dataframe tbody tr th:only-of-type {\n",
       "        vertical-align: middle;\n",
       "    }\n",
       "\n",
       "    .dataframe tbody tr th {\n",
       "        vertical-align: top;\n",
       "    }\n",
       "\n",
       "    .dataframe thead th {\n",
       "        text-align: right;\n",
       "    }\n",
       "</style>\n",
       "<table border=\"1\" class=\"dataframe\">\n",
       "  <thead>\n",
       "    <tr style=\"text-align: right;\">\n",
       "      <th></th>\n",
       "      <th>cnt</th>\n",
       "      <th>holiday</th>\n",
       "      <th>workingday</th>\n",
       "      <th>weathersit</th>\n",
       "      <th>temp</th>\n",
       "      <th>atemp</th>\n",
       "      <th>hum</th>\n",
       "      <th>windspeed</th>\n",
       "    </tr>\n",
       "    <tr>\n",
       "      <th>dteday</th>\n",
       "      <th></th>\n",
       "      <th></th>\n",
       "      <th></th>\n",
       "      <th></th>\n",
       "      <th></th>\n",
       "      <th></th>\n",
       "      <th></th>\n",
       "      <th></th>\n",
       "    </tr>\n",
       "  </thead>\n",
       "  <tbody>\n",
       "    <tr>\n",
       "      <th>2011-01-01</th>\n",
       "      <td>985</td>\n",
       "      <td>0</td>\n",
       "      <td>0</td>\n",
       "      <td>2</td>\n",
       "      <td>0.344167</td>\n",
       "      <td>0.363625</td>\n",
       "      <td>0.805833</td>\n",
       "      <td>0.160446</td>\n",
       "    </tr>\n",
       "  </tbody>\n",
       "</table>\n",
       "</div>"
      ],
      "text/plain": [
       "            cnt  holiday  workingday  weathersit      temp     atemp  \\\n",
       "dteday                                                                 \n",
       "2011-01-01  985        0           0           2  0.344167  0.363625   \n",
       "\n",
       "                 hum  windspeed  \n",
       "dteday                           \n",
       "2011-01-01  0.805833   0.160446  "
      ]
     },
     "execution_count": 31,
     "metadata": {},
     "output_type": "execute_result"
    }
   ],
   "source": [
    "#select variables\n",
    "dataset = data.loc[:, [\"cnt\", \"holiday\", \"workingday\", \"weathersit\",\n",
    "                       \"temp\", \"atemp\", \"hum\", \"windspeed\"]]\n",
    "dataset.head(1) "
   ]
  },
  {
   "cell_type": "code",
   "execution_count": 32,
   "id": "6694a56f",
   "metadata": {},
   "outputs": [
    {
     "data": {
      "text/html": [
       "<div>\n",
       "<style scoped>\n",
       "    .dataframe tbody tr th:only-of-type {\n",
       "        vertical-align: middle;\n",
       "    }\n",
       "\n",
       "    .dataframe tbody tr th {\n",
       "        vertical-align: top;\n",
       "    }\n",
       "\n",
       "    .dataframe thead th {\n",
       "        text-align: right;\n",
       "    }\n",
       "</style>\n",
       "<table border=\"1\" class=\"dataframe\">\n",
       "  <thead>\n",
       "    <tr style=\"text-align: right;\">\n",
       "      <th></th>\n",
       "      <th>y</th>\n",
       "      <th>holiday</th>\n",
       "      <th>workingday</th>\n",
       "      <th>weathersit</th>\n",
       "      <th>temp</th>\n",
       "      <th>atemp</th>\n",
       "      <th>hum</th>\n",
       "      <th>windspeed</th>\n",
       "    </tr>\n",
       "    <tr>\n",
       "      <th>dteday</th>\n",
       "      <th></th>\n",
       "      <th></th>\n",
       "      <th></th>\n",
       "      <th></th>\n",
       "      <th></th>\n",
       "      <th></th>\n",
       "      <th></th>\n",
       "      <th></th>\n",
       "    </tr>\n",
       "  </thead>\n",
       "  <tbody>\n",
       "    <tr>\n",
       "      <th>2011-01-01</th>\n",
       "      <td>985</td>\n",
       "      <td>0</td>\n",
       "      <td>0</td>\n",
       "      <td>2</td>\n",
       "      <td>0.344167</td>\n",
       "      <td>0.363625</td>\n",
       "      <td>0.805833</td>\n",
       "      <td>0.160446</td>\n",
       "    </tr>\n",
       "  </tbody>\n",
       "</table>\n",
       "</div>"
      ],
      "text/plain": [
       "              y  holiday  workingday  weathersit      temp     atemp  \\\n",
       "dteday                                                                 \n",
       "2011-01-01  985        0           0           2  0.344167  0.363625   \n",
       "\n",
       "                 hum  windspeed  \n",
       "dteday                           \n",
       "2011-01-01  0.805833   0.160446  "
      ]
     },
     "execution_count": 32,
     "metadata": {},
     "output_type": "execute_result"
    }
   ],
   "source": [
    "#renaming variable\n",
    "dataset = dataset.rename(columns = {'cnt' : 'y'})\n",
    "dataset.head(1)"
   ]
  },
  {
   "cell_type": "code",
   "execution_count": 33,
   "id": "42005a9c",
   "metadata": {},
   "outputs": [
    {
     "data": {
      "text/plain": [
       "DatetimeIndex(['2011-01-01', '2011-01-02', '2011-01-03', '2011-01-04',\n",
       "               '2011-01-05', '2011-01-06', '2011-01-07', '2011-01-08',\n",
       "               '2011-01-09', '2011-01-10',\n",
       "               ...\n",
       "               '2012-12-22', '2012-12-23', '2012-12-24', '2012-12-25',\n",
       "               '2012-12-26', '2012-12-27', '2012-12-28', '2012-12-29',\n",
       "               '2012-12-30', '2012-12-31'],\n",
       "              dtype='datetime64[ns]', name='dteday', length=731, freq='D')"
      ]
     },
     "execution_count": 33,
     "metadata": {},
     "output_type": "execute_result"
    }
   ],
   "source": [
    "#index\n",
    "dataset = dataset.asfreq(\"D\")\n",
    "dataset.index"
   ]
  },
  {
   "cell_type": "code",
   "execution_count": 34,
   "id": "504cd509",
   "metadata": {},
   "outputs": [
    {
     "name": "stdout",
     "output_type": "stream",
     "text": [
      "Augmented Dickey Fuller p-value: 0.342743\n"
     ]
    }
   ],
   "source": [
    "#Stationarity\n",
    "from statsmodels.tsa.stattools import adfuller\n",
    "stationarity = adfuller(dataset['y'])\n",
    "print('Augmented Dickey Fuller p-value: %F' % stationarity[1])"
   ]
  },
  {
   "cell_type": "code",
   "execution_count": 35,
   "id": "669d97f4",
   "metadata": {},
   "outputs": [
    {
     "data": {
      "text/html": [
       "<div>\n",
       "<style scoped>\n",
       "    .dataframe tbody tr th:only-of-type {\n",
       "        vertical-align: middle;\n",
       "    }\n",
       "\n",
       "    .dataframe tbody tr th {\n",
       "        vertical-align: top;\n",
       "    }\n",
       "\n",
       "    .dataframe thead th {\n",
       "        text-align: right;\n",
       "    }\n",
       "</style>\n",
       "<table border=\"1\" class=\"dataframe\">\n",
       "  <thead>\n",
       "    <tr style=\"text-align: right;\">\n",
       "      <th></th>\n",
       "      <th>y</th>\n",
       "      <th>holiday</th>\n",
       "      <th>workingday</th>\n",
       "      <th>weathersit</th>\n",
       "      <th>temp</th>\n",
       "      <th>atemp</th>\n",
       "      <th>hum</th>\n",
       "      <th>windspeed</th>\n",
       "    </tr>\n",
       "    <tr>\n",
       "      <th>dteday</th>\n",
       "      <th></th>\n",
       "      <th></th>\n",
       "      <th></th>\n",
       "      <th></th>\n",
       "      <th></th>\n",
       "      <th></th>\n",
       "      <th></th>\n",
       "      <th></th>\n",
       "    </tr>\n",
       "  </thead>\n",
       "  <tbody>\n",
       "    <tr>\n",
       "      <th>2012-12-31</th>\n",
       "      <td>2729</td>\n",
       "      <td>0</td>\n",
       "      <td>1</td>\n",
       "      <td>2</td>\n",
       "      <td>0.215833</td>\n",
       "      <td>0.223487</td>\n",
       "      <td>0.5775</td>\n",
       "      <td>0.154846</td>\n",
       "    </tr>\n",
       "  </tbody>\n",
       "</table>\n",
       "</div>"
      ],
      "text/plain": [
       "               y  holiday  workingday  weathersit      temp     atemp     hum  \\\n",
       "dteday                                                                          \n",
       "2012-12-31  2729        0           1           2  0.215833  0.223487  0.5775   \n",
       "\n",
       "            windspeed  \n",
       "dteday                 \n",
       "2012-12-31   0.154846  "
      ]
     },
     "execution_count": 35,
     "metadata": {},
     "output_type": "execute_result"
    }
   ],
   "source": [
    "#Training and test set\n",
    "test_days = 31\n",
    "training_set = dataset.iloc[:-test_days, :]\n",
    "test_set = dataset.iloc[-test_days:, :]\n",
    "test_set.tail(1)"
   ]
  },
  {
   "cell_type": "code",
   "execution_count": 43,
   "id": "a325cd84",
   "metadata": {},
   "outputs": [],
   "source": [
    "#exogenous variables\n",
    "dataset_exog = dataset.iloc[:,1:]\n",
    "#test_exog = test_set.iloc[:,1:]\n",
    "#test_exog.head()"
   ]
  },
  {
   "cell_type": "code",
   "execution_count": 36,
   "id": "20b4cf3a",
   "metadata": {},
   "outputs": [],
   "source": [
    "#Libraries\n",
    "from pmdarima import auto_arima"
   ]
  },
  {
   "cell_type": "code",
   "execution_count": 41,
   "id": "ee008316",
   "metadata": {},
   "outputs": [
    {
     "data": {
      "text/plain": [
       "(731,)"
      ]
     },
     "execution_count": 41,
     "metadata": {},
     "output_type": "execute_result"
    }
   ],
   "source": [
    "y = dataset['y']\n",
    "y.shape"
   ]
  },
  {
   "cell_type": "code",
   "execution_count": 44,
   "id": "1058a7aa",
   "metadata": {},
   "outputs": [
    {
     "data": {
      "text/plain": [
       "(731, 7)"
      ]
     },
     "execution_count": 44,
     "metadata": {},
     "output_type": "execute_result"
    }
   ],
   "source": [
    "dataset_exog.shape"
   ]
  },
  {
   "cell_type": "code",
   "execution_count": 45,
   "id": "d29334ab",
   "metadata": {},
   "outputs": [],
   "source": [
    "#forecasting model\n",
    "model = auto_arima(y = dataset['y'],\n",
    "                   X = dataset_exog,\n",
    "                   m = 7,\n",
    "                   seasonal = True,\n",
    "                   stepwise = False)"
   ]
  },
  {
   "cell_type": "code",
   "execution_count": 46,
   "id": "7cf137d8",
   "metadata": {},
   "outputs": [
    {
     "data": {
      "text/html": [
       "<table class=\"simpletable\">\n",
       "<caption>SARIMAX Results</caption>\n",
       "<tr>\n",
       "  <th>Dep. Variable:</th>           <td>y</td>        <th>  No. Observations:  </th>    <td>731</td>   \n",
       "</tr>\n",
       "<tr>\n",
       "  <th>Model:</th>           <td>SARIMAX(0, 1, 3)</td> <th>  Log Likelihood     </th> <td>-5854.370</td>\n",
       "</tr>\n",
       "<tr>\n",
       "  <th>Date:</th>            <td>Wed, 26 Jul 2023</td> <th>  AIC                </th> <td>11732.739</td>\n",
       "</tr>\n",
       "<tr>\n",
       "  <th>Time:</th>                <td>13:57:58</td>     <th>  BIC                </th> <td>11787.856</td>\n",
       "</tr>\n",
       "<tr>\n",
       "  <th>Sample:</th>             <td>01-01-2011</td>    <th>  HQIC               </th> <td>11754.003</td>\n",
       "</tr>\n",
       "<tr>\n",
       "  <th></th>                   <td>- 12-31-2012</td>   <th>                     </th>     <td> </td>    \n",
       "</tr>\n",
       "<tr>\n",
       "  <th>Covariance Type:</th>        <td>opg</td>       <th>                     </th>     <td> </td>    \n",
       "</tr>\n",
       "</table>\n",
       "<table class=\"simpletable\">\n",
       "<tr>\n",
       "       <td></td>         <th>coef</th>     <th>std err</th>      <th>z</th>      <th>P>|z|</th>  <th>[0.025</th>    <th>0.975]</th>  \n",
       "</tr>\n",
       "<tr>\n",
       "  <th>intercept</th>  <td>    4.4749</td> <td>    6.726</td> <td>    0.665</td> <td> 0.506</td> <td>   -8.707</td> <td>   17.657</td>\n",
       "</tr>\n",
       "<tr>\n",
       "  <th>holiday</th>    <td> -201.4847</td> <td>  128.243</td> <td>   -1.571</td> <td> 0.116</td> <td> -452.837</td> <td>   49.867</td>\n",
       "</tr>\n",
       "<tr>\n",
       "  <th>workingday</th> <td>   93.9873</td> <td>   59.674</td> <td>    1.575</td> <td> 0.115</td> <td>  -22.971</td> <td>  210.945</td>\n",
       "</tr>\n",
       "<tr>\n",
       "  <th>weathersit</th> <td> -483.1694</td> <td>   51.719</td> <td>   -9.342</td> <td> 0.000</td> <td> -584.536</td> <td> -381.803</td>\n",
       "</tr>\n",
       "<tr>\n",
       "  <th>temp</th>       <td> 3403.8193</td> <td> 1190.159</td> <td>    2.860</td> <td> 0.004</td> <td> 1071.150</td> <td> 5736.488</td>\n",
       "</tr>\n",
       "<tr>\n",
       "  <th>atemp</th>      <td> 2069.0965</td> <td> 1209.986</td> <td>    1.710</td> <td> 0.087</td> <td> -302.433</td> <td> 4440.626</td>\n",
       "</tr>\n",
       "<tr>\n",
       "  <th>hum</th>        <td>-2305.3143</td> <td>  202.271</td> <td>  -11.397</td> <td> 0.000</td> <td>-2701.758</td> <td>-1908.871</td>\n",
       "</tr>\n",
       "<tr>\n",
       "  <th>windspeed</th>  <td>-2317.1408</td> <td>  367.190</td> <td>   -6.310</td> <td> 0.000</td> <td>-3036.820</td> <td>-1597.461</td>\n",
       "</tr>\n",
       "<tr>\n",
       "  <th>ma.L1</th>      <td>   -0.5260</td> <td>    0.029</td> <td>  -18.175</td> <td> 0.000</td> <td>   -0.583</td> <td>   -0.469</td>\n",
       "</tr>\n",
       "<tr>\n",
       "  <th>ma.L2</th>      <td>   -0.1361</td> <td>    0.039</td> <td>   -3.476</td> <td> 0.001</td> <td>   -0.213</td> <td>   -0.059</td>\n",
       "</tr>\n",
       "<tr>\n",
       "  <th>ma.L3</th>      <td>   -0.1402</td> <td>    0.041</td> <td>   -3.380</td> <td> 0.001</td> <td>   -0.222</td> <td>   -0.059</td>\n",
       "</tr>\n",
       "<tr>\n",
       "  <th>sigma2</th>     <td> 5.527e+05</td> <td> 2.12e+04</td> <td>   26.024</td> <td> 0.000</td> <td> 5.11e+05</td> <td> 5.94e+05</td>\n",
       "</tr>\n",
       "</table>\n",
       "<table class=\"simpletable\">\n",
       "<tr>\n",
       "  <th>Ljung-Box (L1) (Q):</th>     <td>0.02</td> <th>  Jarque-Bera (JB):  </th> <td>530.66</td>\n",
       "</tr>\n",
       "<tr>\n",
       "  <th>Prob(Q):</th>                <td>0.90</td> <th>  Prob(JB):          </th>  <td>0.00</td> \n",
       "</tr>\n",
       "<tr>\n",
       "  <th>Heteroskedasticity (H):</th> <td>2.37</td> <th>  Skew:              </th>  <td>-0.86</td>\n",
       "</tr>\n",
       "<tr>\n",
       "  <th>Prob(H) (two-sided):</th>    <td>0.00</td> <th>  Kurtosis:          </th>  <td>6.80</td> \n",
       "</tr>\n",
       "</table><br/><br/>Warnings:<br/>[1] Covariance matrix calculated using the outer product of gradients (complex-step)."
      ],
      "text/plain": [
       "<class 'statsmodels.iolib.summary.Summary'>\n",
       "\"\"\"\n",
       "                               SARIMAX Results                                \n",
       "==============================================================================\n",
       "Dep. Variable:                      y   No. Observations:                  731\n",
       "Model:               SARIMAX(0, 1, 3)   Log Likelihood               -5854.370\n",
       "Date:                Wed, 26 Jul 2023   AIC                          11732.739\n",
       "Time:                        13:57:58   BIC                          11787.856\n",
       "Sample:                    01-01-2011   HQIC                         11754.003\n",
       "                         - 12-31-2012                                         \n",
       "Covariance Type:                  opg                                         \n",
       "==============================================================================\n",
       "                 coef    std err          z      P>|z|      [0.025      0.975]\n",
       "------------------------------------------------------------------------------\n",
       "intercept      4.4749      6.726      0.665      0.506      -8.707      17.657\n",
       "holiday     -201.4847    128.243     -1.571      0.116    -452.837      49.867\n",
       "workingday    93.9873     59.674      1.575      0.115     -22.971     210.945\n",
       "weathersit  -483.1694     51.719     -9.342      0.000    -584.536    -381.803\n",
       "temp        3403.8193   1190.159      2.860      0.004    1071.150    5736.488\n",
       "atemp       2069.0965   1209.986      1.710      0.087    -302.433    4440.626\n",
       "hum        -2305.3143    202.271    -11.397      0.000   -2701.758   -1908.871\n",
       "windspeed  -2317.1408    367.190     -6.310      0.000   -3036.820   -1597.461\n",
       "ma.L1         -0.5260      0.029    -18.175      0.000      -0.583      -0.469\n",
       "ma.L2         -0.1361      0.039     -3.476      0.001      -0.213      -0.059\n",
       "ma.L3         -0.1402      0.041     -3.380      0.001      -0.222      -0.059\n",
       "sigma2      5.527e+05   2.12e+04     26.024      0.000    5.11e+05    5.94e+05\n",
       "===================================================================================\n",
       "Ljung-Box (L1) (Q):                   0.02   Jarque-Bera (JB):               530.66\n",
       "Prob(Q):                              0.90   Prob(JB):                         0.00\n",
       "Heteroskedasticity (H):               2.37   Skew:                            -0.86\n",
       "Prob(H) (two-sided):                  0.00   Kurtosis:                         6.80\n",
       "===================================================================================\n",
       "\n",
       "Warnings:\n",
       "[1] Covariance matrix calculated using the outer product of gradients (complex-step).\n",
       "\"\"\""
      ]
     },
     "execution_count": 46,
     "metadata": {},
     "output_type": "execute_result"
    }
   ],
   "source": [
    "#summary\n",
    "model.summary()"
   ]
  },
  {
   "cell_type": "code",
   "execution_count": null,
   "id": "c818a672",
   "metadata": {},
   "outputs": [],
   "source": [
    "#predictions\n",
    "predictions_sarimax = pd.Series(model.predict(n_periods= test_days,\n",
    "                              X = test_exog)).rename(\"SARIMAX\")\n",
    "predictions_sarimax.index = test_set.index                              \n",
    "predictions_sarimax"
   ]
  },
  {
   "cell_type": "code",
   "execution_count": null,
   "id": "1a04c974",
   "metadata": {},
   "outputs": [],
   "source": []
  },
  {
   "cell_type": "code",
   "execution_count": null,
   "id": "0cf12854",
   "metadata": {},
   "outputs": [],
   "source": []
  },
  {
   "cell_type": "code",
   "execution_count": null,
   "id": "b8bd8fe3",
   "metadata": {},
   "outputs": [],
   "source": []
  },
  {
   "cell_type": "code",
   "execution_count": null,
   "id": "28dc90a8",
   "metadata": {},
   "outputs": [],
   "source": []
  },
  {
   "cell_type": "code",
   "execution_count": null,
   "id": "919e47d5",
   "metadata": {},
   "outputs": [],
   "source": []
  },
  {
   "cell_type": "code",
   "execution_count": null,
   "id": "7cc0378a",
   "metadata": {},
   "outputs": [],
   "source": []
  },
  {
   "cell_type": "code",
   "execution_count": null,
   "id": "0979f14f",
   "metadata": {},
   "outputs": [],
   "source": []
  }
 ],
 "metadata": {
  "kernelspec": {
   "display_name": "time_series_modeling",
   "language": "python",
   "name": "time_series_modeling"
  },
  "language_info": {
   "codemirror_mode": {
    "name": "ipython",
    "version": 3
   },
   "file_extension": ".py",
   "mimetype": "text/x-python",
   "name": "python",
   "nbconvert_exporter": "python",
   "pygments_lexer": "ipython3",
   "version": "3.8.17"
  }
 },
 "nbformat": 4,
 "nbformat_minor": 5
}
